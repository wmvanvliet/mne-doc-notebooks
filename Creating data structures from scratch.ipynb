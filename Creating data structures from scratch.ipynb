{
 "cells": [
  {
   "cell_type": "markdown",
   "metadata": {},
   "source": [
    "# Overview of MNE-Python's data structures"
   ]
  },
  {
   "cell_type": "code",
   "execution_count": 2,
   "metadata": {
    "collapsed": false
   },
   "outputs": [],
   "source": [
    "import mne\n",
    "import os.path as op\n",
    "from __future__ import print_function\n",
    "import numpy as np"
   ]
  },
  {
   "cell_type": "markdown",
   "metadata": {},
   "source": [
    "## Creating `Info` objects\n",
    "\n",
    "Normally, `Info` objects are created by the various [data import functions](http://martinos.org/mne/dev/python_reference.html#reading-raw-data). However, if you wish to create one from scratch, you can use the [`create_info`](http://martinos.org/mne/stable/generated/mne.create_info.html#mne.create_info) function to initialize the minimally required fields. Further fields can be assigned later as one would with a regular dictionary."
   ]
  },
  {
   "cell_type": "markdown",
   "metadata": {},
   "source": [
    "The following creates the absolute minimum info structure:"
   ]
  },
  {
   "cell_type": "code",
   "execution_count": 18,
   "metadata": {
    "collapsed": false
   },
   "outputs": [
    {
     "name": "stdout",
     "output_type": "stream",
     "text": [
      "<Info | 13 non-empty fields\n",
      "    bads : list | 0 items\n",
      "    ch_names : list | 0, 1, 2, 3, 4, 5, 6, 7, 8, 9\n",
      "    chs : list | 32 items (MISC: 32)\n",
      "    comps : list | 0 items\n",
      "    custom_ref_applied : bool | False\n",
      "    dev_head_t : dict | 3 items\n",
      "    events : list | 0 items\n",
      "    hpi_meas : list | 0 items\n",
      "    hpi_results : list | 0 items\n",
      "    meas_date : numpy.ndarray | 1970-01-01 01:00:00\n",
      "    nchan : int | 32\n",
      "    projs : list | 0 items\n",
      "    sfreq : float | 200.0\n",
      "    acq_pars : NoneType\n",
      "    acq_stim : NoneType\n",
      "    ctf_head_t : NoneType\n",
      "    description : NoneType\n",
      "    dev_ctf_t : NoneType\n",
      "    dig : NoneType\n",
      "    experimenter : NoneType\n",
      "    file_id : NoneType\n",
      "    filename : NoneType\n",
      "    highpass : NoneType\n",
      "    hpi_subsystem : NoneType\n",
      "    line_freq : NoneType\n",
      "    lowpass : NoneType\n",
      "    meas_id : NoneType\n",
      "    proj_id : NoneType\n",
      "    proj_name : NoneType\n",
      "    subject_info : NoneType\n",
      ">\n"
     ]
    }
   ],
   "source": [
    "n_channels = 32\n",
    "sampling_rate = 200\n",
    "info = mne.create_info(32, sampling_rate)\n",
    "print(info)"
   ]
  },
  {
   "cell_type": "markdown",
   "metadata": {},
   "source": [
    "More extended example:"
   ]
  },
  {
   "cell_type": "code",
   "execution_count": 19,
   "metadata": {
    "collapsed": false,
    "scrolled": true
   },
   "outputs": [
    {
     "name": "stdout",
     "output_type": "stream",
     "text": [
      "<Info | 14 non-empty fields\n",
      "    bads : list | Pz\n",
      "    ch_names : list | MEG1, MEG2, Cz, Pz, EOG\n",
      "    chs : list | 5 items (EOG: 1, EEG: 2, GRAD: 2)\n",
      "    comps : list | 0 items\n",
      "    custom_ref_applied : bool | False\n",
      "    description : str | 17 items\n",
      "    dev_head_t : dict | 3 items\n",
      "    events : list | 0 items\n",
      "    hpi_meas : list | 0 items\n",
      "    hpi_results : list | 0 items\n",
      "    meas_date : numpy.ndarray | 1970-01-01 01:00:00\n",
      "    nchan : int | 5\n",
      "    projs : list | 0 items\n",
      "    sfreq : float | 1000.0\n",
      "    acq_pars : NoneType\n",
      "    acq_stim : NoneType\n",
      "    ctf_head_t : NoneType\n",
      "    dev_ctf_t : NoneType\n",
      "    dig : NoneType\n",
      "    experimenter : NoneType\n",
      "    file_id : NoneType\n",
      "    filename : NoneType\n",
      "    highpass : NoneType\n",
      "    hpi_subsystem : NoneType\n",
      "    line_freq : NoneType\n",
      "    lowpass : NoneType\n",
      "    meas_id : NoneType\n",
      "    proj_id : NoneType\n",
      "    proj_name : NoneType\n",
      "    subject_info : NoneType\n",
      ">\n"
     ]
    }
   ],
   "source": [
    "# Names for each channel\n",
    "channel_names = ['MEG1', 'MEG2', 'Cz', 'Pz', 'EOG']\n",
    "\n",
    "# The type (mag, grad, eeg, eog, misc, ...) of each channel\n",
    "channel_types = ['grad', 'grad', 'eeg', 'eeg', 'eog']\n",
    "\n",
    "# The sampling rate of the recording\n",
    "sfreq = 1000  # in Hertz\n",
    "\n",
    "# The EEG channels use the standard naming strategy.\n",
    "# By supplying the 'montage' parameter, approximate locations\n",
    "# will be added for them \n",
    "montage = 'standard_1005'\n",
    "\n",
    "# Initialize required fields\n",
    "info = mne.create_info(channel_names, sfreq, channel_types, montage)\n",
    "\n",
    "# Add some more information\n",
    "info['description'] = 'My custom dataset'\n",
    "info['bads'] = ['Pz']  # Names of bad channels\n",
    "\n",
    "print(info)"
   ]
  },
  {
   "cell_type": "markdown",
   "metadata": {
    "collapsed": true
   },
   "source": [
    "**NOTE:** When assigning new values to the fields of an `Info` object, it is important that the fields are consistent:\n",
    "\n",
    " - The length of the channel information field `chs` must be `nchan`.\n",
    " - The length of the `ch_names` field must be `nchan`.\n",
    " - The `ch_names` field should be consistent with the `name` field of the channel information contained in `chs`."
   ]
  },
  {
   "cell_type": "code",
   "execution_count": 18,
   "metadata": {
    "collapsed": false
   },
   "outputs": [
    {
     "name": "stdout",
     "output_type": "stream",
     "text": [
      "{'loc': array([-0.1066    ,  0.0464    , -0.0604    , -0.0127    ,  0.0057    ,\n",
      "       -0.99990302, -0.186801  , -0.98240298, -0.0033    , -0.98232698,\n",
      "        0.18674099,  0.013541  ], dtype=float32), 'kind': 1, 'unit_mul': 0, 'coil_trans': array([[-0.0127    , -0.186801  , -0.98232698, -0.1066    ],\n",
      "       [ 0.0057    , -0.98240298,  0.18674099,  0.0464    ],\n",
      "       [-0.99990302, -0.0033    ,  0.013541  , -0.0604    ],\n",
      "       [ 0.        ,  0.        ,  0.        ,  1.        ]]), 'ch_name': 'MEG 0113', 'coil_type': 3012, 'coord_frame': 1, 'logno': 113, 'cal': 3.1600000394149674e-09, 'eeg_loc': None, 'range': 0.00030517578125, 'scanno': 1, 'unit': 201}\n"
     ]
    }
   ],
   "source": [
    "# List all information about the first data channel\n",
    "print(raw.info['chs'][0])"
   ]
  },
  {
   "cell_type": "markdown",
   "metadata": {},
   "source": [
    "### Creating `Raw` objects"
   ]
  },
  {
   "cell_type": "markdown",
   "metadata": {},
   "source": [
    "To create a `Raw` object from scratch, you can use the `RawArray` class, which implements raw data that is backed by a numpy array. Its constructor simply takes the data matrix and `Info` object:"
   ]
  },
  {
   "cell_type": "code",
   "execution_count": 3,
   "metadata": {
    "collapsed": false
   },
   "outputs": [
    {
     "name": "stdout",
     "output_type": "stream",
     "text": [
      "Creating RawArray with float64 data, n_channels=5, n_times=1000\n",
      "    Range : 0 ... 999 =      0.000 ...     9.990 secs\n",
      "Ready.\n",
      "<RawArray  |  n_channels x n_times : 5 x 1000>\n"
     ]
    }
   ],
   "source": [
    "# Generate some random data\n",
    "data = np.random.randn(5, 1000)\n",
    "\n",
    "# Initialize an info structure\n",
    "info = mne.create_info(\n",
    "    ch_names=['MEG1', 'MEG2', 'EEG1', 'EEG2', 'EOG'],\n",
    "    ch_types=['grad', 'grad', 'eeg', 'eeg', 'eog'],\n",
    "    sfreq=100\n",
    ")\n",
    "\n",
    "custom_raw = mne.io.RawArray(data, info)\n",
    "print(custom_raw)"
   ]
  },
  {
   "cell_type": "markdown",
   "metadata": {},
   "source": [
    "## Creating `Epochs` objects\n",
    "\n",
    "To create an `Epochs` object from scratch, you can use the `EpochsArray` class, which uses a numpy array directly without wrapping a raw object."
   ]
  },
  {
   "cell_type": "code",
   "execution_count": 4,
   "metadata": {
    "collapsed": false
   },
   "outputs": [
    {
     "name": "stdout",
     "output_type": "stream",
     "text": [
      "10 matching events found\n",
      "Adding average EEG reference projection.\n",
      "Created an SSP operator (subspace dimension = 1)\n",
      "1 projection items activated\n",
      "No baseline correction applied...\n",
      "No baseline correction applied...\n",
      "No baseline correction applied...\n",
      "No baseline correction applied...\n",
      "No baseline correction applied...\n",
      "No baseline correction applied...\n",
      "No baseline correction applied...\n",
      "No baseline correction applied...\n",
      "No baseline correction applied...\n",
      "No baseline correction applied...\n",
      "0 bad epochs dropped\n",
      "<EpochsArray  |  n_events : 10 (all good), tmin : -0.1 (s), tmax : 1.0 (s), baseline : None,\n",
      " 'frowning': 5, 'smiling': 5>\n"
     ]
    }
   ],
   "source": [
    "# Generate some random data: 10 epochs, 5 channels, 111 samples per epoch\n",
    "data = np.random.randn(10, 5, 111)\n",
    "\n",
    "# Initialize an info structure\n",
    "info = mne.create_info(\n",
    "    ch_names=['MEG1', 'MEG2', 'EEG1', 'EEG2', 'EOG'],\n",
    "    ch_types=['grad', 'grad', 'eeg', 'eeg', 'eog'],\n",
    "    sfreq=100\n",
    ")\n",
    "\n",
    "# Create an event matrix: 10 events with a duration of 1 sample, alternating event codes\n",
    "events = np.array([\n",
    "    [0, 1, 1],\n",
    "    [1, 1, 2],\n",
    "    [2, 1, 1],\n",
    "    [3, 1, 2],       \n",
    "    [4, 1, 1],\n",
    "    [5, 1, 2],\n",
    "    [6, 1, 1],\n",
    "    [7, 1, 2],\n",
    "    [8, 1, 1],\n",
    "    [9, 1, 2],\n",
    "])\n",
    "\n",
    "# More information about the event codes: subject was either smiling or frowning\n",
    "event_id = dict(smiling=1, frowning=2)\n",
    "\n",
    "# Trials were cut from -0.1 to 1.0 seconds\n",
    "tmin = -0.1\n",
    "\n",
    "# Create epochs object\n",
    "custom_epochs = mne.EpochsArray(data, info, events, tmin, event_id)\n",
    "print(custom_epochs)"
   ]
  },
  {
   "cell_type": "code",
   "execution_count": null,
   "metadata": {
    "collapsed": true
   },
   "outputs": [],
   "source": []
  }
 ],
 "metadata": {
  "kernelspec": {
   "display_name": "Python 2",
   "language": "python",
   "name": "python2"
  },
  "language_info": {
   "codemirror_mode": {
    "name": "ipython",
    "version": 2
   },
   "file_extension": ".py",
   "mimetype": "text/x-python",
   "name": "python",
   "nbconvert_exporter": "python",
   "pygments_lexer": "ipython2",
   "version": "2.7.10"
  }
 },
 "nbformat": 4,
 "nbformat_minor": 0
}
