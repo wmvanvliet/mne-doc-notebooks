{
 "cells": [
  {
   "cell_type": "markdown",
   "metadata": {},
   "source": [
    "# Overview of MNE-Python's data structures"
   ]
  },
  {
   "cell_type": "code",
   "execution_count": 26,
   "metadata": {
    "collapsed": false
   },
   "outputs": [],
   "source": [
    "import mne\n",
    "import os.path as op\n",
    "from __future__ import print_function\n",
    "import numpy as np"
   ]
  },
  {
   "cell_type": "markdown",
   "metadata": {},
   "source": [
    "## `Info`: recording information\n",
    "The `Info` data object is created when data is imported into MNE-Python and contains details such as:\n",
    "\n",
    " - date, subject information, and other recording details\n",
    " - the samping rate\n",
    " - information about the data channels (name, type, position, etc.)\n",
    " - digitized points\n",
    " - sensor–head coordinate transformation matrices\n",
    "\n",
    "and so forth. See the [reference documentation](http://martinos.org/mne/stable/manual/matlab.html) for a complete list of all data fields. Once created, this object is passed around throughout the data analysis pipeline.\n",
    "\n",
    "It behaves as a nested Python dictionary:"
   ]
  },
  {
   "cell_type": "code",
   "execution_count": 27,
   "metadata": {
    "collapsed": false
   },
   "outputs": [
    {
     "name": "stdout",
     "output_type": "stream",
     "text": [
      "Keys in info dictionary:\n",
      " ['acq_stim', 'ch_names', 'lowpass', 'buffer_size_sec', 'hpi_results', 'dev_ctf_t', 'projs', 'meas_date', 'meas_id', 'subject_info', 'sfreq', 'filename', 'chs', 'events', 'dev_head_t', 'line_freq', 'proj_id', 'description', 'highpass', 'hpi_subsystem', 'comps', 'custom_ref_applied', 'experimenter', 'file_id', 'proj_name', 'nchan', 'bads', 'hpi_meas', 'dig', 'ctf_head_t', 'acq_pars']\n"
     ]
    }
   ],
   "source": [
    "# Load an example dataset, which contains an info object \n",
    "raw = mne.io.RawFIF(op.join(mne.datasets.sample.data_path(), 'MEG', 'sample', 'sample_audvis_raw.fif'), verbose=False)\n",
    "\n",
    "# List all the fields in the info object\n",
    "print('Keys in info dictionary:\\n', raw.info.keys())"
   ]
  },
  {
   "cell_type": "code",
   "execution_count": 17,
   "metadata": {
    "collapsed": false
   },
   "outputs": [
    {
     "name": "stdout",
     "output_type": "stream",
     "text": [
      "600.614990234 Hz\n"
     ]
    }
   ],
   "source": [
    "# Obtain the sampling rate of the data\n",
    "print(raw.info['sfreq'], 'Hz')"
   ]
  },
  {
   "cell_type": "code",
   "execution_count": 18,
   "metadata": {
    "collapsed": false
   },
   "outputs": [
    {
     "name": "stdout",
     "output_type": "stream",
     "text": [
      "{'loc': array([-0.1066    ,  0.0464    , -0.0604    , -0.0127    ,  0.0057    ,\n",
      "       -0.99990302, -0.186801  , -0.98240298, -0.0033    , -0.98232698,\n",
      "        0.18674099,  0.013541  ], dtype=float32), 'kind': 1, 'unit_mul': 0, 'coil_trans': array([[-0.0127    , -0.186801  , -0.98232698, -0.1066    ],\n",
      "       [ 0.0057    , -0.98240298,  0.18674099,  0.0464    ],\n",
      "       [-0.99990302, -0.0033    ,  0.013541  , -0.0604    ],\n",
      "       [ 0.        ,  0.        ,  0.        ,  1.        ]]), 'ch_name': 'MEG 0113', 'coil_type': 3012, 'coord_frame': 1, 'logno': 113, 'cal': 3.1600000394149674e-09, 'eeg_loc': None, 'range': 0.00030517578125, 'scanno': 1, 'unit': 201}\n"
     ]
    }
   ],
   "source": [
    "# List all information about the first data channel\n",
    "print(raw.info['chs'][0])"
   ]
  }
 ],
 "metadata": {
  "kernelspec": {
   "display_name": "Python 2",
   "language": "python",
   "name": "python2"
  },
  "language_info": {
   "codemirror_mode": {
    "name": "ipython",
    "version": 2
   },
   "file_extension": ".py",
   "mimetype": "text/x-python",
   "name": "python",
   "nbconvert_exporter": "python",
   "pygments_lexer": "ipython2",
   "version": "2.7.10"
  }
 },
 "nbformat": 4,
 "nbformat_minor": 0
}
