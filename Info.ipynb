{
 "cells": [
  {
   "cell_type": "markdown",
   "metadata": {},
   "source": [
    "# Overview of MNE-Python's data structures"
   ]
  },
  {
   "cell_type": "code",
   "execution_count": 76,
   "metadata": {
    "collapsed": false
   },
   "outputs": [],
   "source": [
    "import mne\n",
    "import os.path as op\n",
    "from __future__ import print_function\n",
    "#import numpy as np"
   ]
  },
  {
   "cell_type": "markdown",
   "metadata": {},
   "source": [
    "## `Info`: recording information\n",
    "The `Info` data object is typically created when data is imported into MNE-Python and contains details such as:\n",
    "\n",
    " - date, subject information, and other recording details\n",
    " - the samping rate\n",
    " - information about the data channels (name, type, position, etc.)\n",
    " - digitized points\n",
    " - sensor–head coordinate transformation matrices\n",
    "\n",
    "and so forth. See the [reference documentation](http://martinos.org/mne/stable/manual/matlab.html) for a complete list of all data fields. Once created, this object is passed around throughout the data analysis pipeline.\n",
    "\n",
    "It behaves as a nested Python dictionary:"
   ]
  },
  {
   "cell_type": "code",
   "execution_count": 77,
   "metadata": {
    "collapsed": false
   },
   "outputs": [
    {
     "name": "stdout",
     "output_type": "stream",
     "text": [
      "Keys in info dictionary:\n",
      " ['acq_stim', 'lowpass', 'description', 'dev_ctf_t', 'projs', 'meas_date', 'meas_id', 'subject_info', 'sfreq', 'chs', 'events', 'dev_head_t', 'line_freq', 'proj_id', 'hpi_results', 'highpass', 'hpi_subsystem', 'comps', 'custom_ref_applied', 'experimenter', 'file_id', 'proj_name', 'acq_pars', 'nchan', 'bads', 'hpi_meas', 'dig', 'ctf_head_t', 'ch_names']\n"
     ]
    }
   ],
   "source": [
    "# Read the info object from an example recording \n",
    "info = mne.io.read_info(op.join(mne.datasets.sample.data_path(), 'MEG', 'sample', 'sample_audvis_raw.fif'), verbose=False)\n",
    "\n",
    "# List all the fields in the info object\n",
    "print('Keys in info dictionary:\\n', info.keys())"
   ]
  },
  {
   "cell_type": "code",
   "execution_count": 78,
   "metadata": {
    "collapsed": false
   },
   "outputs": [
    {
     "name": "stdout",
     "output_type": "stream",
     "text": [
      "600.614990234 Hz\n"
     ]
    }
   ],
   "source": [
    "# Obtain the sampling rate of the data\n",
    "print(info['sfreq'], 'Hz')"
   ]
  },
  {
   "cell_type": "code",
   "execution_count": 79,
   "metadata": {
    "collapsed": false
   },
   "outputs": [
    {
     "name": "stdout",
     "output_type": "stream",
     "text": [
      "{'loc': array([-0.1066    ,  0.0464    , -0.0604    , -0.0127    ,  0.0057    ,\n",
      "       -0.99990302, -0.186801  , -0.98240298, -0.0033    , -0.98232698,\n",
      "        0.18674099,  0.013541  ], dtype=float32), 'kind': 1, 'eeg_loc': None, 'ch_name': 'MEG 0113', 'coil_trans': array([[-0.0127    , -0.186801  , -0.98232698, -0.1066    ],\n",
      "       [ 0.0057    , -0.98240298,  0.18674099,  0.0464    ],\n",
      "       [-0.99990302, -0.0033    ,  0.013541  , -0.0604    ],\n",
      "       [ 0.        ,  0.        ,  0.        ,  1.        ]]), 'coord_frame': 1, 'range': 0.00030517578125, 'unit_mul': 0, 'unit': 201, 'cal': 3.1600000394149674e-09, 'coil_type': 3012, 'scanno': 1, 'logno': 113}\n"
     ]
    }
   ],
   "source": [
    "# List all information about the first data channel\n",
    "print(info['chs'][0])"
   ]
  },
  {
   "cell_type": "markdown",
   "metadata": {},
   "source": [
    "## Obtaining subsets of channels"
   ]
  },
  {
   "cell_type": "markdown",
   "metadata": {},
   "source": [
    "There are a number of convenience functions to obtain channel indices, given an `Info` object."
   ]
  },
  {
   "cell_type": "code",
   "execution_count": 80,
   "metadata": {
    "collapsed": false
   },
   "outputs": [
    {
     "name": "stdout",
     "output_type": "stream",
     "text": [
      "The first three magnetometers: [2, 5, 8]\n"
     ]
    }
   ],
   "source": [
    "# Get channel indices by name\n",
    "channel_indices = mne.pick_channels(info['ch_names'], ['MEG 0312', 'EEG 005'])\n",
    "\n",
    "# Get channel indices by regular expression\n",
    "channel_indices = mne.pick_channels_regexp(info['ch_names'], 'MEG *')\n",
    "\n",
    "# Get channel indices by type\n",
    "channel_indices = mne.pick_types(info, meg=True) # MEG only\n",
    "channel_indices = mne.pick_types(info, eeg=True) # EEG only\n",
    "channel_indices = mne.pick_types(info, meg='grad', eeg=True) # MEG gradiometers and EEG channels\n",
    "\n",
    "# Get a dictionary of channel indices, grouped by channel type\n",
    "channel_indices_by_type = mne.io.pick.channel_indices_by_type(info)\n",
    "print('The first three magnetometers:', channel_indices_by_type['mag'][:3])"
   ]
  },
  {
   "cell_type": "markdown",
   "metadata": {},
   "source": [
    "## Obtaining information about channels"
   ]
  },
  {
   "cell_type": "code",
   "execution_count": 85,
   "metadata": {
    "collapsed": false
   },
   "outputs": [
    {
     "name": "stdout",
     "output_type": "stream",
     "text": [
      "Channel #75 is of type: grad\n",
      "First 10 MEG channels are of type:\n",
      " ['grad', 'grad', 'mag', 'grad', 'grad', 'mag', 'grad', 'grad', 'mag', 'grad']\n"
     ]
    }
   ],
   "source": [
    "# Channel type of a specific channel\n",
    "channel_type = mne.io.pick.channel_type(info, 75)\n",
    "print('Channel #75 is of type:', channel_type)\n",
    "\n",
    "# Channel types of a collection of channels\n",
    "meg_channels = mne.pick_types(info, meg=True)[:10]\n",
    "channel_types = [mne.io.pick.channel_type(info, ch) for ch in meg_channels]\n",
    "print('First 10 MEG channels are of type:\\n', channel_types)\n"
   ]
  },
  {
   "cell_type": "markdown",
   "metadata": {},
   "source": [
    "## Dropping channels from an info structure\n",
    "\n",
    "It is possible to limit the info structure to only include a subset of channels with the `pick_info` function:"
   ]
  },
  {
   "cell_type": "code",
   "execution_count": 82,
   "metadata": {
    "collapsed": false
   },
   "outputs": [
    {
     "name": "stdout",
     "output_type": "stream",
     "text": [
      "<Info | 23 non-empty fields\n",
      "    acq_pars : unicode | 13886 items\n",
      "    bads : list | 0 items\n",
      "    ch_names : list | EEG 001, EEG 002, EEG 003, EEG 004, EEG 005, EEG 006, ...\n",
      "    chs : list | 59 items (EEG: 59)\n",
      "    comps : list | 0 items\n",
      "    custom_ref_applied : bool | False\n",
      "    description : unicode | 49 items\n",
      "    dev_head_t : dict | 3 items\n",
      "    dig : list | 146 items\n",
      "    events : list | 1 items\n",
      "    experimenter : unicode | 3 items\n",
      "    file_id : dict | 4 items\n",
      "    highpass : float | 0.10000000149\n",
      "    hpi_meas : list | 1 items\n",
      "    hpi_results : list | 1 items\n",
      "    lowpass : float | 172.176300049\n",
      "    meas_date : numpy.ndarray | 2002-12-03 20:01:10\n",
      "    meas_id : dict | 4 items\n",
      "    nchan : int | 59\n",
      "    proj_id : numpy.ndarray | 1 items\n",
      "    proj_name : unicode | 4 items\n",
      "    projs : list | PCA-v1: off, PCA-v2: off, PCA-v3: off\n",
      "    sfreq : float | 600.614990234\n",
      "    acq_stim : NoneType\n",
      "    ctf_head_t : NoneType\n",
      "    dev_ctf_t : NoneType\n",
      "    hpi_subsystem : NoneType\n",
      "    line_freq : NoneType\n",
      "    subject_info : NoneType\n",
      ">\n"
     ]
    }
   ],
   "source": [
    "# Only keep EEG channels\n",
    "eeg_indices = mne.pick_types(info, meg=False, eeg=True)\n",
    "reduced_info = mne.pick_info(info, eeg_indices)\n",
    "\n",
    "print(reduced_info)"
   ]
  }
 ],
 "metadata": {
  "kernelspec": {
   "display_name": "Python 2",
   "language": "python",
   "name": "python2"
  },
  "language_info": {
   "codemirror_mode": {
    "name": "ipython",
    "version": 2
   },
   "file_extension": ".py",
   "mimetype": "text/x-python",
   "name": "python",
   "nbconvert_exporter": "python",
   "pygments_lexer": "ipython2",
   "version": "2.7.10"
  }
 },
 "nbformat": 4,
 "nbformat_minor": 0
}
